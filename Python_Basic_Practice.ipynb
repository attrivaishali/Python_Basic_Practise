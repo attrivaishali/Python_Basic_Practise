{
 "cells": [
  {
   "cell_type": "code",
   "execution_count": 1,
   "id": "f6895dc9",
   "metadata": {},
   "outputs": [
    {
     "name": "stdout",
     "output_type": "stream",
     "text": [
      "  Vaishali\n",
      "Hello Vaishali !\n"
     ]
    }
   ],
   "source": [
    "# 1.\n",
    "\n",
    "name = input(\"  \")\n",
    "print(\"Hello {} !\".format(name))\n"
   ]
  },
  {
   "cell_type": "code",
   "execution_count": 2,
   "id": "e79d7946",
   "metadata": {},
   "outputs": [
    {
     "name": "stdout",
     "output_type": "stream",
     "text": [
      "2\n"
     ]
    }
   ],
   "source": [
    "# 2.\n",
    "\n",
    "# From low string print count of \"Is\".\n",
    "\n",
    "string = \"He is Amol and she is chaital\"\n",
    "print(string.count(\"is\"))\n"
   ]
  },
  {
   "cell_type": "code",
   "execution_count": 3,
   "id": "22e9a8e9",
   "metadata": {},
   "outputs": [
    {
     "name": "stdout",
     "output_type": "stream",
     "text": [
      "['Data', 'is', 'new', 'oil']\n"
     ]
    }
   ],
   "source": [
    "# 3.\n",
    "\n",
    "# From low string split the word by space.\n",
    "\n",
    "a = \"Data is new oil\"\n",
    "splitted_list = a.split(\" \")\n",
    "print(splitted_list)\n"
   ]
  },
  {
   "cell_type": "code",
   "execution_count": 4,
   "id": "74294e02",
   "metadata": {},
   "outputs": [
    {
     "name": "stdout",
     "output_type": "stream",
     "text": [
      "Data=is=new=oil\n"
     ]
    }
   ],
   "source": [
    "# 4.\n",
    "\n",
    "# now from below, join all the words by \"=\" and create a sentence.\n",
    "\n",
    "i = [\"Data\", \"is\", \"new\", \"oil\"]\n",
    "new_string = \"=\".join(i)\n",
    "print(new_string)\n"
   ]
  },
  {
   "cell_type": "code",
   "execution_count": 5,
   "id": "10d3de57",
   "metadata": {},
   "outputs": [
    {
     "name": "stdout",
     "output_type": "stream",
     "text": [
      "I love Programming in Python.\n"
     ]
    }
   ],
   "source": [
    "# 5.\n",
    "\n",
    "# from below string replace \"Java\" with \"Python\"\n",
    "\n",
    "sentence = \"I love Programming in Java.\"\n",
    "print(sentence.replace(\"Java\",\"Python\"))\n"
   ]
  },
  {
   "cell_type": "code",
   "execution_count": 6,
   "id": "ca2c1e3d",
   "metadata": {},
   "outputs": [
    {
     "name": "stdout",
     "output_type": "stream",
     "text": [
      "This a message with spaces.\n"
     ]
    }
   ],
   "source": [
    "# 6.\n",
    "\n",
    "# from below string remove(strip) additional spaces and print it.\n",
    "\n",
    "msg = \" This a message with spaces.\"\n",
    "strip_msg = msg.strip()\n",
    "print(strip_msg)\n"
   ]
  },
  {
   "cell_type": "code",
   "execution_count": 7,
   "id": "e17726c9",
   "metadata": {},
   "outputs": [
    {
     "name": "stdout",
     "output_type": "stream",
     "text": [
      "10\n"
     ]
    }
   ],
   "source": [
    "#7. \n",
    "\n",
    "# From below string find postion(start index) of \"sample\"\n",
    "\n",
    "sentence = \"This is a sample sentence.\"\n",
    "print(sentence.index(\"sample\"))\n"
   ]
  },
  {
   "cell_type": "code",
   "execution_count": 8,
   "id": "429aa0cc",
   "metadata": {},
   "outputs": [
    {
     "name": "stdout",
     "output_type": "stream",
     "text": [
      "14\n"
     ]
    }
   ],
   "source": [
    "#8. \n",
    "\n",
    "#Given the string \"Python is fun!\", how can you calculate and print its length?\n",
    "\n",
    "text = \"Python is fun!\"\n",
    "print(len(text))\n"
   ]
  },
  {
   "cell_type": "code",
   "execution_count": 9,
   "id": "1eb50987",
   "metadata": {},
   "outputs": [
    {
     "name": "stdout",
     "output_type": "stream",
     "text": [
      "elppaeniP\n"
     ]
    }
   ],
   "source": [
    "#9.\n",
    "\n",
    "#Print below string in reverse order\n",
    "\n",
    "string = \"Pineapple\"[ : :-1]\n",
    "print(string)"
   ]
  },
  {
   "cell_type": "code",
   "execution_count": 10,
   "id": "994a6dff",
   "metadata": {},
   "outputs": [
    {
     "name": "stdout",
     "output_type": "stream",
     "text": [
      "WELCOME TO PYTHON PROGRAMMING.\n"
     ]
    }
   ],
   "source": [
    "#10. \n",
    "\n",
    "#Given the string \"Welcome to Python Programming.\", how can you capitalize the first letter of each word and print the modified string?\n",
    "\n",
    "text = \"Welcome to Python Programming.\"\n",
    "print(text.upper())\n"
   ]
  },
  {
   "cell_type": "code",
   "execution_count": 11,
   "id": "3652983f",
   "metadata": {},
   "outputs": [
    {
     "name": "stdout",
     "output_type": "stream",
     "text": [
      "DATA IS NEW OIL\n"
     ]
    }
   ],
   "source": [
    "#11. \n",
    "\n",
    "#Convert all letter of string to Upper Case\n",
    "\n",
    "text = \"Data is new oil\"\n",
    "print(text.upper())\n"
   ]
  },
  {
   "cell_type": "code",
   "execution_count": 12,
   "id": "c4d6b598",
   "metadata": {},
   "outputs": [
    {
     "name": "stdout",
     "output_type": "stream",
     "text": [
      "I Am Learning Python\n"
     ]
    }
   ],
   "source": [
    "#12. \n",
    "\n",
    "#From below string just convert first lettter of string to upper case\n",
    "\n",
    "text = \"i am learning python\"\n",
    "print(text.title())\n"
   ]
  },
  {
   "cell_type": "code",
   "execution_count": 13,
   "id": "c750ab0c",
   "metadata": {},
   "outputs": [
    {
     "name": "stdout",
     "output_type": "stream",
     "text": [
      "dAta IS nEw Oil\n"
     ]
    }
   ],
   "source": [
    "#13. \n",
    "\n",
    "#Convert all uppper case to lower and lower case to upper\n",
    "\n",
    "text = \"DaTA is NeW oIL\"\n",
    "print(text.swapcase())\n"
   ]
  },
  {
   "cell_type": "code",
   "execution_count": 14,
   "id": "709dec82",
   "metadata": {},
   "outputs": [
    {
     "name": "stdout",
     "output_type": "stream",
     "text": [
      "50\n"
     ]
    }
   ],
   "source": [
    "#14. p\n",
    "\n",
    "#rint the addition of below 2 strings\n",
    "\n",
    "a = 20\n",
    "b = 30\n",
    "print(a+b)\n"
   ]
  },
  {
   "cell_type": "code",
   "execution_count": 15,
   "id": "9dc2634e",
   "metadata": {},
   "outputs": [
    {
     "name": "stdout",
     "output_type": "stream",
     "text": [
      "2030\n"
     ]
    }
   ],
   "source": [
    "#15. \n",
    "\n",
    "#print the additiono of below 2 strings\n",
    "\n",
    "a = \"20\"\n",
    "b = \"30\"\n",
    "print(a+b)\n"
   ]
  },
  {
   "cell_type": "code",
   "execution_count": null,
   "id": "ba3dd5fd",
   "metadata": {},
   "outputs": [],
   "source": []
  }
 ],
 "metadata": {
  "kernelspec": {
   "display_name": "Python 3 (ipykernel)",
   "language": "python",
   "name": "python3"
  },
  "language_info": {
   "codemirror_mode": {
    "name": "ipython",
    "version": 3
   },
   "file_extension": ".py",
   "mimetype": "text/x-python",
   "name": "python",
   "nbconvert_exporter": "python",
   "pygments_lexer": "ipython3",
   "version": "3.11.3"
  }
 },
 "nbformat": 4,
 "nbformat_minor": 5
}
