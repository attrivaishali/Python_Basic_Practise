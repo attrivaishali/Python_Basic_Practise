{
 "cells": [
  {
   "cell_type": "markdown",
   "id": "f9bf604e",
   "metadata": {},
   "source": [
    "## String"
   ]
  },
  {
   "cell_type": "code",
   "execution_count": 1,
   "id": "f6895dc9",
   "metadata": {},
   "outputs": [
    {
     "name": "stdout",
     "output_type": "stream",
     "text": [
      "  Vaishali\n",
      "Hello Vaishali !\n"
     ]
    }
   ],
   "source": [
    "# 1.\n",
    "\n",
    "name = input(\"  \")\n",
    "print(\"Hello {} !\".format(name))\n"
   ]
  },
  {
   "cell_type": "code",
   "execution_count": 2,
   "id": "e79d7946",
   "metadata": {},
   "outputs": [
    {
     "name": "stdout",
     "output_type": "stream",
     "text": [
      "2\n"
     ]
    }
   ],
   "source": [
    "# 2.\n",
    "\n",
    "# From low string print count of \"Is\".\n",
    "\n",
    "string = \"He is Amol and she is chaital\"\n",
    "print(string.count(\"is\"))\n"
   ]
  },
  {
   "cell_type": "code",
   "execution_count": 3,
   "id": "22e9a8e9",
   "metadata": {},
   "outputs": [
    {
     "name": "stdout",
     "output_type": "stream",
     "text": [
      "['Data', 'is', 'new', 'oil']\n"
     ]
    }
   ],
   "source": [
    "# 3.\n",
    "\n",
    "# From low string split the word by space.\n",
    "\n",
    "a = \"Data is new oil\"\n",
    "splitted_list = a.split(\" \")\n",
    "print(splitted_list)\n"
   ]
  },
  {
   "cell_type": "code",
   "execution_count": 4,
   "id": "74294e02",
   "metadata": {},
   "outputs": [
    {
     "name": "stdout",
     "output_type": "stream",
     "text": [
      "Data=is=new=oil\n"
     ]
    }
   ],
   "source": [
    "# 4.\n",
    "\n",
    "# now from below, join all the words by \"=\" and create a sentence.\n",
    "\n",
    "i = [\"Data\", \"is\", \"new\", \"oil\"]\n",
    "new_string = \"=\".join(i)\n",
    "print(new_string)\n"
   ]
  },
  {
   "cell_type": "code",
   "execution_count": 5,
   "id": "10d3de57",
   "metadata": {},
   "outputs": [
    {
     "name": "stdout",
     "output_type": "stream",
     "text": [
      "I love Programming in Python.\n"
     ]
    }
   ],
   "source": [
    "# 5.\n",
    "\n",
    "# from below string replace \"Java\" with \"Python\"\n",
    "\n",
    "sentence = \"I love Programming in Java.\"\n",
    "print(sentence.replace(\"Java\",\"Python\"))\n"
   ]
  },
  {
   "cell_type": "code",
   "execution_count": 6,
   "id": "ca2c1e3d",
   "metadata": {},
   "outputs": [
    {
     "name": "stdout",
     "output_type": "stream",
     "text": [
      "This a message with spaces.\n"
     ]
    }
   ],
   "source": [
    "# 6.\n",
    "\n",
    "# from below string remove(strip) additional spaces and print it.\n",
    "\n",
    "msg = \" This a message with spaces.\"\n",
    "strip_msg = msg.strip()\n",
    "print(strip_msg)\n"
   ]
  },
  {
   "cell_type": "code",
   "execution_count": 7,
   "id": "e17726c9",
   "metadata": {},
   "outputs": [
    {
     "name": "stdout",
     "output_type": "stream",
     "text": [
      "10\n"
     ]
    }
   ],
   "source": [
    "#7. \n",
    "\n",
    "# From below string find postion(start index) of \"sample\"\n",
    "\n",
    "sentence = \"This is a sample sentence.\"\n",
    "print(sentence.index(\"sample\"))\n"
   ]
  },
  {
   "cell_type": "code",
   "execution_count": 8,
   "id": "429aa0cc",
   "metadata": {},
   "outputs": [
    {
     "name": "stdout",
     "output_type": "stream",
     "text": [
      "14\n"
     ]
    }
   ],
   "source": [
    "#8. \n",
    "\n",
    "#Given the string \"Python is fun!\", how can you calculate and print its length?\n",
    "\n",
    "text = \"Python is fun!\"\n",
    "print(len(text))\n"
   ]
  },
  {
   "cell_type": "code",
   "execution_count": 9,
   "id": "1eb50987",
   "metadata": {},
   "outputs": [
    {
     "name": "stdout",
     "output_type": "stream",
     "text": [
      "elppaeniP\n"
     ]
    }
   ],
   "source": [
    "#9.\n",
    "\n",
    "#Print below string in reverse order\n",
    "\n",
    "string = \"Pineapple\"[ : :-1]\n",
    "print(string)"
   ]
  },
  {
   "cell_type": "code",
   "execution_count": 10,
   "id": "994a6dff",
   "metadata": {},
   "outputs": [
    {
     "name": "stdout",
     "output_type": "stream",
     "text": [
      "WELCOME TO PYTHON PROGRAMMING.\n"
     ]
    }
   ],
   "source": [
    "#10. \n",
    "\n",
    "#Given the string \"Welcome to Python Programming.\", how can you capitalize the first letter of each word and print the modified string?\n",
    "\n",
    "text = \"Welcome to Python Programming.\"\n",
    "print(text.upper())\n"
   ]
  },
  {
   "cell_type": "code",
   "execution_count": 11,
   "id": "3652983f",
   "metadata": {},
   "outputs": [
    {
     "name": "stdout",
     "output_type": "stream",
     "text": [
      "DATA IS NEW OIL\n"
     ]
    }
   ],
   "source": [
    "#11. \n",
    "\n",
    "#Convert all letter of string to Upper Case\n",
    "\n",
    "text = \"Data is new oil\"\n",
    "print(text.upper())\n"
   ]
  },
  {
   "cell_type": "code",
   "execution_count": 12,
   "id": "c4d6b598",
   "metadata": {},
   "outputs": [
    {
     "name": "stdout",
     "output_type": "stream",
     "text": [
      "I Am Learning Python\n"
     ]
    }
   ],
   "source": [
    "#12. \n",
    "\n",
    "#From below string just convert first lettter of string to upper case\n",
    "\n",
    "text = \"i am learning python\"\n",
    "print(text.title())\n"
   ]
  },
  {
   "cell_type": "code",
   "execution_count": 13,
   "id": "c750ab0c",
   "metadata": {},
   "outputs": [
    {
     "name": "stdout",
     "output_type": "stream",
     "text": [
      "dAta IS nEw Oil\n"
     ]
    }
   ],
   "source": [
    "#13. \n",
    "\n",
    "#Convert all uppper case to lower and lower case to upper\n",
    "\n",
    "text = \"DaTA is NeW oIL\"\n",
    "print(text.swapcase())\n"
   ]
  },
  {
   "cell_type": "code",
   "execution_count": 14,
   "id": "709dec82",
   "metadata": {},
   "outputs": [
    {
     "name": "stdout",
     "output_type": "stream",
     "text": [
      "50\n"
     ]
    }
   ],
   "source": [
    "#14. p\n",
    "\n",
    "#rint the addition of below 2 strings\n",
    "\n",
    "a = 20\n",
    "b = 30\n",
    "print(a+b)\n",
    "\n"
   ]
  },
  {
   "cell_type": "code",
   "execution_count": 15,
   "id": "9dc2634e",
   "metadata": {},
   "outputs": [
    {
     "name": "stdout",
     "output_type": "stream",
     "text": [
      "2030\n"
     ]
    }
   ],
   "source": [
    "#15. \n",
    "\n",
    "#print the additiono of below 2 strings\n",
    "\n",
    "a = \"20\"\n",
    "b = \"30\"\n",
    "print(a+b)\n"
   ]
  },
  {
   "cell_type": "markdown",
   "id": "0727f77b",
   "metadata": {},
   "source": [
    "## List"
   ]
  },
  {
   "cell_type": "code",
   "execution_count": 16,
   "id": "1d83ab9e",
   "metadata": {},
   "outputs": [
    {
     "name": "stdout",
     "output_type": "stream",
     "text": [
      "[1, 2, 3, 44, 5]\n"
     ]
    }
   ],
   "source": [
    "#16.\n",
    "\n",
    "#From belown list replace 4 with 44.\n",
    "\n",
    "my_list=[1,2,3,4,5]\n",
    "my_list[3]= 44\n",
    "print(my_list)"
   ]
  },
  {
   "cell_type": "code",
   "execution_count": 17,
   "id": "ced4589c",
   "metadata": {},
   "outputs": [
    {
     "name": "stdout",
     "output_type": "stream",
     "text": [
      "[1, 2, 3, 200, 5]\n"
     ]
    }
   ],
   "source": [
    "#17.\n",
    "\n",
    "#From belown list add(insert) 200 at index 3\n",
    "\n",
    "my_list = [1, 2, 3, 4, 5]\n",
    "my_list[3]=200\n",
    "print(my_list)"
   ]
  },
  {
   "cell_type": "code",
   "execution_count": 18,
   "id": "d9b2ed1e",
   "metadata": {},
   "outputs": [
    {
     "name": "stdout",
     "output_type": "stream",
     "text": [
      "[1, 2, 3, 4, 5, 66]\n"
     ]
    }
   ],
   "source": [
    "#18.\n",
    "\n",
    "#In below list add new number 66.\n",
    "\n",
    "my_list = [1, 2, 3, 4, 5]\n",
    "my_list.append(66)\n",
    "print(my_list)"
   ]
  },
  {
   "cell_type": "code",
   "execution_count": 19,
   "id": "b1c3c519",
   "metadata": {},
   "outputs": [
    {
     "name": "stdout",
     "output_type": "stream",
     "text": [
      "[1, 2, 3, 4, 5, 66, 87, 99]\n"
     ]
    }
   ],
   "source": [
    "#19.\n",
    "\n",
    "#In below list insert new numbers 66,87,99.\n",
    "\n",
    "my_list = [1, 2, 3, 4, 5]\n",
    "my_list.extend([66,87,99])\n",
    "print(my_list)"
   ]
  },
  {
   "cell_type": "code",
   "execution_count": 20,
   "id": "62f2934d",
   "metadata": {},
   "outputs": [
    {
     "name": "stdout",
     "output_type": "stream",
     "text": [
      "[1, 2, 4, 5]\n"
     ]
    }
   ],
   "source": [
    "# 20. \n",
    "\n",
    "#rom below list remove number 3.\n",
    "\n",
    "my_list = [1, 2, 3, 4, 5]\n",
    "my_list.remove(3)\n",
    "print(my_list)"
   ]
  },
  {
   "cell_type": "code",
   "execution_count": 21,
   "id": "a93c12e2",
   "metadata": {},
   "outputs": [
    {
     "data": {
      "text/plain": [
       "2"
      ]
     },
     "execution_count": 21,
     "metadata": {},
     "output_type": "execute_result"
    }
   ],
   "source": [
    "# 21. \n",
    "\n",
    "#From below list print count of \"cherry\"\n",
    "my_list = [1, 2.5, \"cherry\", 3, \"banana\", 4.0, \"cherry\"]\n",
    "my_list.count(\"cherry\")"
   ]
  },
  {
   "cell_type": "code",
   "execution_count": 22,
   "id": "5e1c6b69",
   "metadata": {},
   "outputs": [
    {
     "data": {
      "text/plain": [
       "4"
      ]
     },
     "execution_count": 22,
     "metadata": {},
     "output_type": "execute_result"
    }
   ],
   "source": [
    "# 22. \n",
    "\n",
    "#From below list print index of \"banana\"\n",
    "my_list = [1, 2.5, \"apple\", 3, \"banana\", 4.0, \"cherry\"]\n",
    "my_list.index(\"banana\")"
   ]
  },
  {
   "cell_type": "code",
   "execution_count": 23,
   "id": "83d5b4b6",
   "metadata": {},
   "outputs": [
    {
     "name": "stdout",
     "output_type": "stream",
     "text": [
      "['Pune', 'Delhi', 'Mumbai', 'Indore', 'Jaipur']\n"
     ]
    }
   ],
   "source": [
    "# 23. \n",
    "\n",
    "#From below list remove last item\n",
    "my_list = [\"Pune\",\"Delhi\",\"Mumbai\",\"Indore\",\"Jaipur\",\"Dehradun\"]\n",
    "my_list.remove(\"Dehradun\")\n",
    "print(my_list)"
   ]
  },
  {
   "cell_type": "code",
   "execution_count": 24,
   "id": "2562802d",
   "metadata": {},
   "outputs": [
    {
     "name": "stdout",
     "output_type": "stream",
     "text": [
      "['Apple', 'Banana', 'Cherry', 'Grapes', 'Mango']\n"
     ]
    }
   ],
   "source": [
    "# 24. \n",
    "\n",
    "#Sort the below list in Alphabetical order\n",
    "my_list = [\"Grapes\",\"Apple\",\"Cherry\",\"Mango\",\"Banana\"]\n",
    "my_list.sort()\n",
    "print(my_list)"
   ]
  },
  {
   "cell_type": "code",
   "execution_count": 25,
   "id": "e6dbd1f0",
   "metadata": {},
   "outputs": [
    {
     "name": "stdout",
     "output_type": "stream",
     "text": [
      "['Mango', 'Grapes', 'Cherry', 'Banana', 'Apple']\n"
     ]
    }
   ],
   "source": [
    "# 25. \n",
    "\n",
    "#Sort below list in reverse Alphabetical order\n",
    "my_list = [\"Grapes\",\"Apple\",\"Cherry\",\"Mango\",\"Banana\"]\n",
    "my_list.sort(reverse=True)\n",
    "print(my_list)"
   ]
  },
  {
   "cell_type": "markdown",
   "id": "39b7a592",
   "metadata": {},
   "source": [
    "# Assignment"
   ]
  },
  {
   "cell_type": "markdown",
   "id": "33e9c2c5",
   "metadata": {},
   "source": [
    "### Problem 1.\n",
    "Create a list named myList that has three elements:\n",
    "\n",
    "~The integer 3\n",
    "\n",
    "~The string 'element number 2'\n",
    "\n",
    "~Another list ['last','element']\n",
    "\n",
    "in that order"
   ]
  },
  {
   "cell_type": "code",
   "execution_count": 26,
   "id": "91297f86",
   "metadata": {},
   "outputs": [],
   "source": [
    "myList = [1, 'element no 2', ['last','element']]"
   ]
  },
  {
   "cell_type": "markdown",
   "id": "f63f2340",
   "metadata": {},
   "source": [
    "### Problem 2.\n",
    "Print the third element of the following list."
   ]
  },
  {
   "cell_type": "code",
   "execution_count": 27,
   "id": "f10a6503",
   "metadata": {},
   "outputs": [
    {
     "name": "stdout",
     "output_type": "stream",
     "text": [
      "3\n"
     ]
    }
   ],
   "source": [
    "l = [1,2,3,4,5,6,7,8]\n",
    "print(l[2])"
   ]
  },
  {
   "cell_type": "markdown",
   "id": "f03fe46a",
   "metadata": {},
   "source": [
    "### Problem 3.\n",
    "Modify the last element of this list so that its value is 16. Print the modified list so you know the opration was performed succefully.\n"
   ]
  },
  {
   "cell_type": "code",
   "execution_count": 28,
   "id": "01068038",
   "metadata": {},
   "outputs": [
    {
     "name": "stdout",
     "output_type": "stream",
     "text": [
      "['a', 'b', 16]\n"
     ]
    }
   ],
   "source": [
    "listToModify = ['a', 'b', 'sixteen']\n",
    "listToModify[2] = 16\n",
    "print(listToModify)"
   ]
  },
  {
   "cell_type": "markdown",
   "id": "473eb1cd",
   "metadata": {},
   "source": [
    "### Problem 4.\n",
    "Calculate the length of the following list."
   ]
  },
  {
   "cell_type": "code",
   "execution_count": 29,
   "id": "31eb0505",
   "metadata": {},
   "outputs": [
    {
     "data": {
      "text/plain": [
       "8"
      ]
     },
     "execution_count": 29,
     "metadata": {},
     "output_type": "execute_result"
    }
   ],
   "source": [
    "listToFindLength = ['this ','is','the','list','whose','length','I','want']\n",
    "len(listToFindLength)"
   ]
  },
  {
   "cell_type": "markdown",
   "id": "16f871b1",
   "metadata": {},
   "source": [
    "### Problem 5.\n",
    "Calculate the sum of the following list."
   ]
  },
  {
   "cell_type": "code",
   "execution_count": 30,
   "id": "dffb4895",
   "metadata": {},
   "outputs": [
    {
     "data": {
      "text/plain": [
       "3622"
      ]
     },
     "execution_count": 30,
     "metadata": {},
     "output_type": "execute_result"
    }
   ],
   "source": [
    "inList = [54,678,2890]\n",
    "sum(inList)"
   ]
  },
  {
   "cell_type": "markdown",
   "id": "93133c4d",
   "metadata": {},
   "source": [
    "### Problem 6.\n",
    "Find the maximum value of the following list."
   ]
  },
  {
   "cell_type": "code",
   "execution_count": 31,
   "id": "e1301581",
   "metadata": {},
   "outputs": [
    {
     "data": {
      "text/plain": [
       "34577"
      ]
     },
     "execution_count": 31,
     "metadata": {},
     "output_type": "execute_result"
    }
   ],
   "source": [
    "maxList = [455,677,223,1467,24,34577,34]\n",
    "max(maxList)"
   ]
  },
  {
   "cell_type": "markdown",
   "id": "37a3017e",
   "metadata": {},
   "source": [
    "### Problem 7.\n",
    "Find the minimum value of the following list."
   ]
  },
  {
   "cell_type": "code",
   "execution_count": 32,
   "id": "dea348c6",
   "metadata": {},
   "outputs": [
    {
     "data": {
      "text/plain": [
       "24"
      ]
     },
     "execution_count": 32,
     "metadata": {},
     "output_type": "execute_result"
    }
   ],
   "source": [
    "minList = [455,677,223,1467,24,34577,34]\n",
    "min(minList)"
   ]
  },
  {
   "cell_type": "markdown",
   "id": "0349c127",
   "metadata": {},
   "source": [
    "### Problem 8.\n",
    "Append the string 'Append me!' to the end of the following list. Print the list to ensure the operation has been completed succefully."
   ]
  },
  {
   "cell_type": "code",
   "execution_count": 33,
   "id": "6da287e7",
   "metadata": {},
   "outputs": [
    {
     "name": "stdout",
     "output_type": "stream",
     "text": [
      "[1, 2, 3, 'Append me!']\n"
     ]
    }
   ],
   "source": [
    "listToAppend = [1,2,3]\n",
    "listToAppend.append('Append me!')\n",
    "print(listToAppend)"
   ]
  },
  {
   "cell_type": "code",
   "execution_count": null,
   "id": "f6779416",
   "metadata": {},
   "outputs": [],
   "source": []
  },
  {
   "cell_type": "code",
   "execution_count": null,
   "id": "489d7bfd",
   "metadata": {},
   "outputs": [],
   "source": []
  },
  {
   "cell_type": "code",
   "execution_count": null,
   "id": "f871fa11",
   "metadata": {},
   "outputs": [],
   "source": []
  },
  {
   "cell_type": "code",
   "execution_count": null,
   "id": "d146434f",
   "metadata": {},
   "outputs": [],
   "source": []
  },
  {
   "cell_type": "code",
   "execution_count": null,
   "id": "32913dd3",
   "metadata": {},
   "outputs": [],
   "source": []
  }
 ],
 "metadata": {
  "kernelspec": {
   "display_name": "Python 3 (ipykernel)",
   "language": "python",
   "name": "python3"
  },
  "language_info": {
   "codemirror_mode": {
    "name": "ipython",
    "version": 3
   },
   "file_extension": ".py",
   "mimetype": "text/x-python",
   "name": "python",
   "nbconvert_exporter": "python",
   "pygments_lexer": "ipython3",
   "version": "3.11.3"
  }
 },
 "nbformat": 4,
 "nbformat_minor": 5
}

