#!/usr/bin/env python
# coding: utf-8

# ## String

# In[1]:


# 1.

name = input("  ")
print("Hello {} !".format(name))


# In[2]:


# 2.

# From low string print count of "Is".

string = "He is Amol and she is chaital"
print(string.count("is"))


# In[3]:


# 3.

# From low string split the word by space.

a = "Data is new oil"
splitted_list = a.split(" ")
print(splitted_list)


# In[4]:


# 4.

# now from below, join all the words by "=" and create a sentence.

i = ["Data", "is", "new", "oil"]
new_string = "=".join(i)
print(new_string)


# In[5]:


# 5.

# from below string replace "Java" with "Python"

sentence = "I love Programming in Java."
print(sentence.replace("Java","Python"))


# In[6]:


# 6.

# from below string remove(strip) additional spaces and print it.

msg = " This a message with spaces."
strip_msg = msg.strip()
print(strip_msg)


# In[7]:


#7. 

# From below string find postion(start index) of "sample"

sentence = "This is a sample sentence."
print(sentence.index("sample"))


# In[8]:


#8. 

#Given the string "Python is fun!", how can you calculate and print its length?

text = "Python is fun!"
print(len(text))


# In[9]:


#9.

#Print below string in reverse order

string = "Pineapple"[ : :-1]
print(string)


# In[10]:


#10. 

#Given the string "Welcome to Python Programming.", how can you capitalize the first letter of each word and print the modified string?

text = "Welcome to Python Programming."
print(text.upper())


# In[11]:


#11. 

#Convert all letter of string to Upper Case

text = "Data is new oil"
print(text.upper())


# In[12]:


#12. 

#From below string just convert first lettter of string to upper case

text = "i am learning python"
print(text.title())


# In[13]:


#13. 

#Convert all uppper case to lower and lower case to upper

text = "DaTA is NeW oIL"
print(text.swapcase())


# In[14]:


#14. p

#rint the addition of below 2 strings

a = 20
b = 30
print(a+b)



# In[15]:


#15. 

#print the additiono of below 2 strings

a = "20"
b = "30"
print(a+b)


# ## List

# In[16]:


#16.

#From belown list replace 4 with 44.

my_list=[1,2,3,4,5]
my_list[3]= 44
print(my_list)


# In[17]:


#17.

#From belown list add(insert) 200 at index 3

my_list = [1, 2, 3, 4, 5]
my_list[3]=200
print(my_list)


# In[18]:


#18.

#In below list add new number 66.

my_list = [1, 2, 3, 4, 5]
my_list.append(66)
print(my_list)


# In[19]:


#19.

#In below list insert new numbers 66,87,99.

my_list = [1, 2, 3, 4, 5]
my_list.extend([66,87,99])
print(my_list)


# In[20]:


# 20. 

#rom below list remove number 3.

my_list = [1, 2, 3, 4, 5]
my_list.remove(3)
print(my_list)


# In[21]:


# 21. 

#From below list print count of "cherry"
my_list = [1, 2.5, "cherry", 3, "banana", 4.0, "cherry"]
my_list.count("cherry")


# In[22]:


# 22. 

#From below list print index of "banana"
my_list = [1, 2.5, "apple", 3, "banana", 4.0, "cherry"]
my_list.index("banana")


# In[23]:


# 23. 

#From below list remove last item
my_list = ["Pune","Delhi","Mumbai","Indore","Jaipur","Dehradun"]
my_list.remove("Dehradun")
print(my_list)


# In[24]:


# 24. 

#Sort the below list in Alphabetical order
my_list = ["Grapes","Apple","Cherry","Mango","Banana"]
my_list.sort()
print(my_list)


# In[25]:


# 25. 

#Sort below list in reverse Alphabetical order
my_list = ["Grapes","Apple","Cherry","Mango","Banana"]
my_list.sort(reverse=True)
print(my_list)


# # Assignment

# ### Problem 1.
# Create a list named myList that has three elements:
# 
# ~The integer 3
# 
# ~The string 'element number 2'
# 
# ~Another list ['last','element']
# 
# in that order

# In[26]:


myList = [1, 'element no 2', ['last','element']]


# ### Problem 2.
# Print the third element of the following list.

# In[27]:


l = [1,2,3,4,5,6,7,8]
print(l[2])


# ### Problem 3.
# Modify the last element of this list so that its value is 16. Print the modified list so you know the opration was performed succefully.
# 

# In[28]:


listToModify = ['a', 'b', 'sixteen']
listToModify[2] = 16
print(listToModify)


# ### Problem 4.
# Calculate the length of the following list.

# In[29]:


listToFindLength = ['this ','is','the','list','whose','length','I','want']
len(listToFindLength)


# ### Problem 5.
# Calculate the sum of the following list.

# In[30]:


inList = [54,678,2890]
sum(inList)


# ### Problem 6.
# Find the maximum value of the following list.

# In[31]:


maxList = [455,677,223,1467,24,34577,34]
max(maxList)


# ### Problem 7.
# Find the minimum value of the following list.

# In[32]:


minList = [455,677,223,1467,24,34577,34]
min(minList)


# ### Problem 8.
# Append the string 'Append me!' to the end of the following list. Print the list to ensure the operation has been completed succefully.

# In[33]:


listToAppend = [1,2,3]
listToAppend.append('Append me!')
print(listToAppend)


# In[ ]:





# In[ ]:





# In[ ]:





# In[ ]:





# In[ ]:






