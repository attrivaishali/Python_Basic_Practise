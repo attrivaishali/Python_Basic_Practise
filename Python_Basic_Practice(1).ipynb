{
 "cells": [
  {
   "cell_type": "markdown",
   "id": "f9bf604e",
   "metadata": {},
   "source": [
    "## String"
   ]
  },
  {
   "cell_type": "code",
   "execution_count": 1,
   "id": "f6895dc9",
   "metadata": {},
   "outputs": [
    {
     "name": "stdout",
     "output_type": "stream",
     "text": [
      "  vaishali\n",
      "Hello vaishali !\n"
     ]
    }
   ],
   "source": [
    "# 1.\n",
    "\n",
    "name = input(\"  \")\n",
    "print(\"Hello {} !\".format(name))\n"
   ]
  },
  {
   "cell_type": "code",
   "execution_count": 2,
   "id": "e79d7946",
   "metadata": {},
   "outputs": [
    {
     "name": "stdout",
     "output_type": "stream",
     "text": [
      "2\n"
     ]
    }
   ],
   "source": [
    "# 2.\n",
    "\n",
    "# From low string print count of \"Is\".\n",
    "\n",
    "string = \"He is Amol and she is chaital\"\n",
    "print(string.count(\"is\"))\n"
   ]
  },
  {
   "cell_type": "code",
   "execution_count": 3,
   "id": "22e9a8e9",
   "metadata": {},
   "outputs": [
    {
     "name": "stdout",
     "output_type": "stream",
     "text": [
      "['Data', 'is', 'new', 'oil']\n"
     ]
    }
   ],
   "source": [
    "# 3.\n",
    "\n",
    "# From low string split the word by space.\n",
    "\n",
    "a = \"Data is new oil\"\n",
    "splitted_list = a.split(\" \")\n",
    "print(splitted_list)\n"
   ]
  },
  {
   "cell_type": "code",
   "execution_count": 4,
   "id": "74294e02",
   "metadata": {},
   "outputs": [
    {
     "name": "stdout",
     "output_type": "stream",
     "text": [
      "Data=is=new=oil\n"
     ]
    }
   ],
   "source": [
    "# 4.\n",
    "\n",
    "# now from below, join all the words by \"=\" and create a sentence.\n",
    "\n",
    "i = [\"Data\", \"is\", \"new\", \"oil\"]\n",
    "new_string = \"=\".join(i)\n",
    "print(new_string)\n"
   ]
  },
  {
   "cell_type": "code",
   "execution_count": 5,
   "id": "10d3de57",
   "metadata": {},
   "outputs": [
    {
     "name": "stdout",
     "output_type": "stream",
     "text": [
      "I love Programming in Python.\n"
     ]
    }
   ],
   "source": [
    "# 5.\n",
    "\n",
    "# from below string replace \"Java\" with \"Python\"\n",
    "\n",
    "sentence = \"I love Programming in Java.\"\n",
    "print(sentence.replace(\"Java\",\"Python\"))\n"
   ]
  },
  {
   "cell_type": "code",
   "execution_count": 6,
   "id": "ca2c1e3d",
   "metadata": {},
   "outputs": [
    {
     "name": "stdout",
     "output_type": "stream",
     "text": [
      "This a message with spaces.\n"
     ]
    }
   ],
   "source": [
    "# 6.\n",
    "\n",
    "# from below string remove(strip) additional spaces and print it.\n",
    "\n",
    "msg = \" This a message with spaces.\"\n",
    "strip_msg = msg.strip()\n",
    "print(strip_msg)\n"
   ]
  },
  {
   "cell_type": "code",
   "execution_count": 7,
   "id": "e17726c9",
   "metadata": {},
   "outputs": [
    {
     "name": "stdout",
     "output_type": "stream",
     "text": [
      "10\n"
     ]
    }
   ],
   "source": [
    "#7. \n",
    "\n",
    "# From below string find postion(start index) of \"sample\"\n",
    "\n",
    "sentence = \"This is a sample sentence.\"\n",
    "print(sentence.index(\"sample\"))\n"
   ]
  },
  {
   "cell_type": "code",
   "execution_count": 8,
   "id": "429aa0cc",
   "metadata": {},
   "outputs": [
    {
     "name": "stdout",
     "output_type": "stream",
     "text": [
      "14\n"
     ]
    }
   ],
   "source": [
    "#8. \n",
    "\n",
    "#Given the string \"Python is fun!\", how can you calculate and print its length?\n",
    "\n",
    "text = \"Python is fun!\"\n",
    "print(len(text))\n"
   ]
  },
  {
   "cell_type": "code",
   "execution_count": 9,
   "id": "1eb50987",
   "metadata": {},
   "outputs": [
    {
     "name": "stdout",
     "output_type": "stream",
     "text": [
      "elppaeniP\n"
     ]
    }
   ],
   "source": [
    "#9.\n",
    "\n",
    "#Print below string in reverse order\n",
    "\n",
    "string = \"Pineapple\"[ : :-1]\n",
    "print(string)"
   ]
  },
  {
   "cell_type": "code",
   "execution_count": 10,
   "id": "994a6dff",
   "metadata": {},
   "outputs": [
    {
     "name": "stdout",
     "output_type": "stream",
     "text": [
      "WELCOME TO PYTHON PROGRAMMING.\n"
     ]
    }
   ],
   "source": [
    "#10. \n",
    "\n",
    "#Given the string \"Welcome to Python Programming.\", how can you capitalize the first letter of each word and print the modified string?\n",
    "\n",
    "text = \"Welcome to Python Programming.\"\n",
    "print(text.upper())\n"
   ]
  },
  {
   "cell_type": "code",
   "execution_count": 11,
   "id": "3652983f",
   "metadata": {},
   "outputs": [
    {
     "name": "stdout",
     "output_type": "stream",
     "text": [
      "DATA IS NEW OIL\n"
     ]
    }
   ],
   "source": [
    "#11. \n",
    "\n",
    "#Convert all letter of string to Upper Case\n",
    "\n",
    "text = \"Data is new oil\"\n",
    "print(text.upper())\n"
   ]
  },
  {
   "cell_type": "code",
   "execution_count": 12,
   "id": "c4d6b598",
   "metadata": {},
   "outputs": [
    {
     "name": "stdout",
     "output_type": "stream",
     "text": [
      "I Am Learning Python\n"
     ]
    }
   ],
   "source": [
    "#12. \n",
    "\n",
    "#From below string just convert first lettter of string to upper case\n",
    "\n",
    "text = \"i am learning python\"\n",
    "print(text.title())\n"
   ]
  },
  {
   "cell_type": "code",
   "execution_count": 13,
   "id": "c750ab0c",
   "metadata": {},
   "outputs": [
    {
     "name": "stdout",
     "output_type": "stream",
     "text": [
      "dAta IS nEw Oil\n"
     ]
    }
   ],
   "source": [
    "#13. \n",
    "\n",
    "#Convert all uppper case to lower and lower case to upper\n",
    "\n",
    "text = \"DaTA is NeW oIL\"\n",
    "print(text.swapcase())\n"
   ]
  },
  {
   "cell_type": "code",
   "execution_count": 14,
   "id": "709dec82",
   "metadata": {},
   "outputs": [
    {
     "name": "stdout",
     "output_type": "stream",
     "text": [
      "50\n"
     ]
    }
   ],
   "source": [
    "#14. p\n",
    "\n",
    "#rint the addition of below 2 strings\n",
    "\n",
    "a = 20\n",
    "b = 30\n",
    "print(a+b)\n",
    "\n"
   ]
  },
  {
   "cell_type": "code",
   "execution_count": 15,
   "id": "9dc2634e",
   "metadata": {},
   "outputs": [
    {
     "name": "stdout",
     "output_type": "stream",
     "text": [
      "2030\n"
     ]
    }
   ],
   "source": [
    "#15. \n",
    "\n",
    "#print the additiono of below 2 strings\n",
    "\n",
    "a = \"20\"\n",
    "b = \"30\"\n",
    "print(a+b)\n"
   ]
  },
  {
   "cell_type": "markdown",
   "id": "0727f77b",
   "metadata": {},
   "source": [
    "## List"
   ]
  },
  {
   "cell_type": "code",
   "execution_count": 16,
   "id": "1d83ab9e",
   "metadata": {},
   "outputs": [
    {
     "name": "stdout",
     "output_type": "stream",
     "text": [
      "[1, 2, 3, 44, 5]\n"
     ]
    }
   ],
   "source": [
    "#16.\n",
    "\n",
    "#From belown list replace 4 with 44.\n",
    "\n",
    "my_list=[1,2,3,4,5]\n",
    "my_list[3]= 44\n",
    "print(my_list)"
   ]
  },
  {
   "cell_type": "code",
   "execution_count": 17,
   "id": "ced4589c",
   "metadata": {},
   "outputs": [
    {
     "name": "stdout",
     "output_type": "stream",
     "text": [
      "[1, 2, 3, 200, 5]\n"
     ]
    }
   ],
   "source": [
    "#17.\n",
    "\n",
    "#From belown list add(insert) 200 at index 3\n",
    "\n",
    "my_list = [1, 2, 3, 4, 5]\n",
    "my_list[3]=200\n",
    "print(my_list)"
   ]
  },
  {
   "cell_type": "code",
   "execution_count": 18,
   "id": "d9b2ed1e",
   "metadata": {},
   "outputs": [
    {
     "name": "stdout",
     "output_type": "stream",
     "text": [
      "[1, 2, 3, 4, 5, 66]\n"
     ]
    }
   ],
   "source": [
    "#18.\n",
    "\n",
    "#In below list add new number 66.\n",
    "\n",
    "my_list = [1, 2, 3, 4, 5]\n",
    "my_list.append(66)\n",
    "print(my_list)"
   ]
  },
  {
   "cell_type": "code",
   "execution_count": 19,
   "id": "b1c3c519",
   "metadata": {},
   "outputs": [
    {
     "name": "stdout",
     "output_type": "stream",
     "text": [
      "[1, 2, 3, 4, 5, 66, 87, 99]\n"
     ]
    }
   ],
   "source": [
    "#19.\n",
    "\n",
    "#In below list insert new numbers 66,87,99.\n",
    "\n",
    "my_list = [1, 2, 3, 4, 5]\n",
    "my_list.extend([66,87,99])\n",
    "print(my_list)"
   ]
  },
  {
   "cell_type": "code",
   "execution_count": 20,
   "id": "62f2934d",
   "metadata": {},
   "outputs": [
    {
     "name": "stdout",
     "output_type": "stream",
     "text": [
      "[1, 2, 4, 5]\n"
     ]
    }
   ],
   "source": [
    "# 20. \n",
    "\n",
    "#rom below list remove number 3.\n",
    "\n",
    "my_list = [1, 2, 3, 4, 5]\n",
    "my_list.remove(3)\n",
    "print(my_list)"
   ]
  },
  {
   "cell_type": "code",
   "execution_count": 21,
   "id": "a93c12e2",
   "metadata": {},
   "outputs": [
    {
     "data": {
      "text/plain": [
       "2"
      ]
     },
     "execution_count": 21,
     "metadata": {},
     "output_type": "execute_result"
    }
   ],
   "source": [
    "# 21. \n",
    "\n",
    "#From below list print count of \"cherry\"\n",
    "my_list = [1, 2.5, \"cherry\", 3, \"banana\", 4.0, \"cherry\"]\n",
    "my_list.count(\"cherry\")"
   ]
  },
  {
   "cell_type": "code",
   "execution_count": 22,
   "id": "5e1c6b69",
   "metadata": {},
   "outputs": [
    {
     "data": {
      "text/plain": [
       "4"
      ]
     },
     "execution_count": 22,
     "metadata": {},
     "output_type": "execute_result"
    }
   ],
   "source": [
    "# 22. \n",
    "\n",
    "#From below list print index of \"banana\"\n",
    "my_list = [1, 2.5, \"apple\", 3, \"banana\", 4.0, \"cherry\"]\n",
    "my_list.index(\"banana\")"
   ]
  },
  {
   "cell_type": "code",
   "execution_count": 23,
   "id": "83d5b4b6",
   "metadata": {},
   "outputs": [
    {
     "name": "stdout",
     "output_type": "stream",
     "text": [
      "['Pune', 'Delhi', 'Mumbai', 'Indore', 'Jaipur']\n"
     ]
    }
   ],
   "source": [
    "# 23. \n",
    "\n",
    "#From below list remove last item\n",
    "my_list = [\"Pune\",\"Delhi\",\"Mumbai\",\"Indore\",\"Jaipur\",\"Dehradun\"]\n",
    "my_list.remove(\"Dehradun\")\n",
    "print(my_list)"
   ]
  },
  {
   "cell_type": "code",
   "execution_count": 24,
   "id": "2562802d",
   "metadata": {},
   "outputs": [
    {
     "name": "stdout",
     "output_type": "stream",
     "text": [
      "['Apple', 'Banana', 'Cherry', 'Grapes', 'Mango']\n"
     ]
    }
   ],
   "source": [
    "# 24. \n",
    "\n",
    "#Sort the below list in Alphabetical order\n",
    "my_list = [\"Grapes\",\"Apple\",\"Cherry\",\"Mango\",\"Banana\"]\n",
    "my_list.sort()\n",
    "print(my_list)"
   ]
  },
  {
   "cell_type": "code",
   "execution_count": 25,
   "id": "e6dbd1f0",
   "metadata": {},
   "outputs": [
    {
     "name": "stdout",
     "output_type": "stream",
     "text": [
      "['Mango', 'Grapes', 'Cherry', 'Banana', 'Apple']\n"
     ]
    }
   ],
   "source": [
    "# 25. \n",
    "\n",
    "#Sort below list in reverse Alphabetical order\n",
    "my_list = [\"Grapes\",\"Apple\",\"Cherry\",\"Mango\",\"Banana\"]\n",
    "my_list.sort(reverse=True)\n",
    "print(my_list)"
   ]
  },
  {
   "cell_type": "markdown",
   "id": "39b7a592",
   "metadata": {},
   "source": [
    "# Assignment"
   ]
  },
  {
   "cell_type": "markdown",
   "id": "33e9c2c5",
   "metadata": {},
   "source": [
    "### Problem 1.\n",
    "Create a list named myList that has three elements:\n",
    "\n",
    "~The integer 3\n",
    "\n",
    "~The string 'element number 2'\n",
    "\n",
    "~Another list ['last','element']\n",
    "\n",
    "in that order"
   ]
  },
  {
   "cell_type": "code",
   "execution_count": 26,
   "id": "91297f86",
   "metadata": {},
   "outputs": [],
   "source": [
    "myList = [1, 'element no 2', ['last','element']]"
   ]
  },
  {
   "cell_type": "markdown",
   "id": "f63f2340",
   "metadata": {},
   "source": [
    "### Problem 2.\n",
    "Print the third element of the following list."
   ]
  },
  {
   "cell_type": "code",
   "execution_count": 27,
   "id": "f10a6503",
   "metadata": {},
   "outputs": [
    {
     "name": "stdout",
     "output_type": "stream",
     "text": [
      "3\n"
     ]
    }
   ],
   "source": [
    "l = [1,2,3,4,5,6,7,8]\n",
    "print(l[2])"
   ]
  },
  {
   "cell_type": "markdown",
   "id": "f03fe46a",
   "metadata": {},
   "source": [
    "### Problem 3.\n",
    "Modify the last element of this list so that its value is 16. Print the modified list so you know the opration was performed succefully.\n"
   ]
  },
  {
   "cell_type": "code",
   "execution_count": 28,
   "id": "01068038",
   "metadata": {},
   "outputs": [
    {
     "name": "stdout",
     "output_type": "stream",
     "text": [
      "['a', 'b', 16]\n"
     ]
    }
   ],
   "source": [
    "listToModify = ['a', 'b', 'sixteen']\n",
    "listToModify[2] = 16\n",
    "print(listToModify)"
   ]
  },
  {
   "cell_type": "markdown",
   "id": "473eb1cd",
   "metadata": {},
   "source": [
    "### Problem 4.\n",
    "Calculate the length of the following list."
   ]
  },
  {
   "cell_type": "code",
   "execution_count": 29,
   "id": "31eb0505",
   "metadata": {},
   "outputs": [
    {
     "data": {
      "text/plain": [
       "8"
      ]
     },
     "execution_count": 29,
     "metadata": {},
     "output_type": "execute_result"
    }
   ],
   "source": [
    "listToFindLength = ['this ','is','the','list','whose','length','I','want']\n",
    "len(listToFindLength)"
   ]
  },
  {
   "cell_type": "markdown",
   "id": "16f871b1",
   "metadata": {},
   "source": [
    "### Problem 5.\n",
    "Calculate the sum of the following list."
   ]
  },
  {
   "cell_type": "code",
   "execution_count": 30,
   "id": "dffb4895",
   "metadata": {},
   "outputs": [
    {
     "data": {
      "text/plain": [
       "3622"
      ]
     },
     "execution_count": 30,
     "metadata": {},
     "output_type": "execute_result"
    }
   ],
   "source": [
    "inList = [54,678,2890]\n",
    "sum(inList)"
   ]
  },
  {
   "cell_type": "markdown",
   "id": "93133c4d",
   "metadata": {},
   "source": [
    "### Problem 6.\n",
    "Find the maximum value of the following list."
   ]
  },
  {
   "cell_type": "code",
   "execution_count": 31,
   "id": "e1301581",
   "metadata": {},
   "outputs": [
    {
     "data": {
      "text/plain": [
       "34577"
      ]
     },
     "execution_count": 31,
     "metadata": {},
     "output_type": "execute_result"
    }
   ],
   "source": [
    "maxList = [455,677,223,1467,24,34577,34]\n",
    "max(maxList)"
   ]
  },
  {
   "cell_type": "markdown",
   "id": "37a3017e",
   "metadata": {},
   "source": [
    "### Problem 7.\n",
    "Find the minimum value of the following list."
   ]
  },
  {
   "cell_type": "code",
   "execution_count": 32,
   "id": "dea348c6",
   "metadata": {},
   "outputs": [
    {
     "data": {
      "text/plain": [
       "24"
      ]
     },
     "execution_count": 32,
     "metadata": {},
     "output_type": "execute_result"
    }
   ],
   "source": [
    "minList = [455,677,223,1467,24,34577,34]\n",
    "min(minList)"
   ]
  },
  {
   "cell_type": "markdown",
   "id": "0349c127",
   "metadata": {},
   "source": [
    "### Problem 8.\n",
    "Append the string 'Append me!' to the end of the following list. Print the list to ensure the operation has been completed succefully."
   ]
  },
  {
   "cell_type": "code",
   "execution_count": 33,
   "id": "6da287e7",
   "metadata": {},
   "outputs": [
    {
     "name": "stdout",
     "output_type": "stream",
     "text": [
      "[1, 2, 3, 'Append me!']\n"
     ]
    }
   ],
   "source": [
    "listToAppend = [1,2,3]\n",
    "listToAppend.append('Append me!')\n",
    "print(listToAppend)"
   ]
  },
  {
   "cell_type": "markdown",
   "id": "262427a0",
   "metadata": {},
   "source": [
    "## Python for Loop ques"
   ]
  },
  {
   "cell_type": "code",
   "execution_count": 34,
   "id": "f67f65f6",
   "metadata": {},
   "outputs": [
    {
     "name": "stdout",
     "output_type": "stream",
     "text": [
      "1\n",
      "2\n",
      "3\n",
      "4\n",
      "5\n",
      "6\n",
      "7\n",
      "8\n",
      "9\n",
      "10\n"
     ]
    }
   ],
   "source": [
    "#Example 1: Print the first 10 natural numbers using for loop.\n",
    "\n",
    "for i in range(1,11):\n",
    "    print(i)"
   ]
  },
  {
   "cell_type": "code",
   "execution_count": 35,
   "id": "ef14dfbb",
   "metadata": {},
   "outputs": [
    {
     "name": "stdout",
     "output_type": "stream",
     "text": [
      "0\n",
      "2\n",
      "4\n",
      "6\n",
      "8\n"
     ]
    }
   ],
   "source": [
    "#Example 2: Python program to print all the even numbers within the given range.\n",
    "\n",
    "given_range = 10\n",
    "for i in range(10):\n",
    "    if i%2==0:\n",
    "        print(i)"
   ]
  },
  {
   "cell_type": "code",
   "execution_count": 36,
   "id": "348a3f09",
   "metadata": {},
   "outputs": [
    {
     "name": "stdout",
     "output_type": "stream",
     "text": [
      "1\n",
      "3\n",
      "6\n",
      "10\n",
      "15\n",
      "21\n",
      "28\n",
      "36\n",
      "45\n",
      "55\n"
     ]
    }
   ],
   "source": [
    "#Example 3: Python program to calculate the sum of all numbers from 1 to a given number.\n",
    "\n",
    "give_number = 10\n",
    "sum = 0\n",
    "for i in range(1,10+1):\n",
    "    sum+=i\n",
    "    print(sum)\n",
    "    "
   ]
  },
  {
   "cell_type": "code",
   "execution_count": 37,
   "id": "8630a595",
   "metadata": {},
   "outputs": [
    {
     "name": "stdout",
     "output_type": "stream",
     "text": [
      "1\n",
      "4\n",
      "9\n",
      "16\n",
      "25\n"
     ]
    }
   ],
   "source": [
    "#Example 4: Python program to calculate the sum of all the odd numbers within the given range.\n",
    "\n",
    "given_range = 10\n",
    "sum = 0\n",
    "for i in range(given_range):\n",
    "    if i%2!=0:\n",
    "        sum+=i\n",
    "        print(sum)\n"
   ]
  },
  {
   "cell_type": "code",
   "execution_count": 38,
   "id": "562578ef",
   "metadata": {},
   "outputs": [
    {
     "name": "stdout",
     "output_type": "stream",
     "text": [
      "5 x 0 = 0\n",
      "5 x 1 = 5\n",
      "5 x 2 = 10\n",
      "5 x 3 = 15\n",
      "5 x 4 = 20\n",
      "5 x 5 = 25\n",
      "5 x 6 = 30\n",
      "5 x 7 = 35\n",
      "5 x 8 = 40\n",
      "5 x 9 = 45\n",
      "5 x 10 = 50\n"
     ]
    }
   ],
   "source": [
    "# Example 5: Python program to print a multiplication table of a given number.\n",
    "\n",
    "given_number = 5\n",
    "\n",
    "for i in range(11):\n",
    "    print(given_number,\"x\",i,\"=\",5*i)"
   ]
  },
  {
   "cell_type": "code",
   "execution_count": 39,
   "id": "fcf220d2",
   "metadata": {},
   "outputs": [
    {
     "name": "stdout",
     "output_type": "stream",
     "text": [
      "1\n",
      "2\n",
      "4\n",
      "6\n",
      "88\n",
      "125\n"
     ]
    }
   ],
   "source": [
    "# Example 6: Python program to display numbers from a list using a for loop.\n",
    "\n",
    "list = [1,2,4,6,88,125]\n",
    "for i in list:\n",
    "    print(i)"
   ]
  },
  {
   "cell_type": "code",
   "execution_count": 40,
   "id": "8e024dbe",
   "metadata": {},
   "outputs": [
    {
     "name": "stdout",
     "output_type": "stream",
     "text": [
      "Number of digits: 6\n"
     ]
    }
   ],
   "source": [
    "#Example 7: Python program to count the total number of digits in a number.\n",
    "\n",
    "num = 129475\n",
    "count = 0\n",
    "\n",
    "while num != 0:\n",
    "    num //= 10\n",
    "    count += 1\n",
    "\n",
    "print(\"Number of digits: \" + str(count))"
   ]
  },
  {
   "cell_type": "code",
   "execution_count": 41,
   "id": "4066d9de",
   "metadata": {},
   "outputs": [
    {
     "name": "stdout",
     "output_type": "stream",
     "text": [
      "The string madam is NOT a Palindrome.\n"
     ]
    }
   ],
   "source": [
    "#Example 8: Python program to check if the given string is a palindrome.\n",
    "\n",
    "given_string = \"madam\"\n",
    "\n",
    "reverse_string =\"\"\n",
    "if(given_string == reverse_string):\n",
    "    print(\"The string\", given_string,\"is a Palindrome.\")\n",
    "else:  \n",
    "    print(\"The string\",given_string,\"is NOT a Palindrome.\")\n"
   ]
  },
  {
   "cell_type": "code",
   "execution_count": 42,
   "id": "c04b1345",
   "metadata": {},
   "outputs": [
    {
     "name": "stdout",
     "output_type": "stream",
     "text": [
      "vaishali\n",
      "ilahsiav\n"
     ]
    }
   ],
   "source": [
    "#Example 9: Python program that accepts a word from the user and reverses it.\n",
    "\n",
    "given_string = input()\n",
    "reverse_string = \"\"\n",
    "for i in given_string:\n",
    "    reverse_string= i+reverse_string\n",
    "print(reverse_string)"
   ]
  },
  {
   "cell_type": "code",
   "execution_count": 43,
   "id": "fb25b033",
   "metadata": {},
   "outputs": [
    {
     "name": "stdout",
     "output_type": "stream",
     "text": [
      "The given number 153 is an Amstrong number.\n"
     ]
    }
   ],
   "source": [
    "#Example 10: Python program to check if a given number is an Armstrong number.\n",
    "\n",
    "given_number=153\n",
    "given_number=str(given_number)\n",
    "string_length=len(given_number)\n",
    "sum=0\n",
    "for i in given_number:\n",
    "    sum+=int(i)**string_length\n",
    "if sum == int(given_number):\n",
    "    print(\"The given number\",given_number,\"is an Amstrong number.\")\n",
    "else:\n",
    "    print(\"The given number\",given_number,\"is Not an Amstrong number.\")    \n",
    "    \n",
    "    "
   ]
  },
  {
   "cell_type": "code",
   "execution_count": 44,
   "id": "5e69fd98",
   "metadata": {},
   "outputs": [
    {
     "name": "stdout",
     "output_type": "stream",
     "text": [
      "1 is an odd number.\n",
      "3 is an odd number.\n",
      "5 is an odd number.\n",
      "6 is an even number.\n",
      "99 is an odd number.\n",
      "134 is an even number.\n",
      "55 is an odd number.\n"
     ]
    }
   ],
   "source": [
    "#Example 11: Python program to count the number of even and odd numbers from a series of numbers.\n",
    "\n",
    "num_list = [1,3,5,6,99,134,55]\n",
    "\n",
    "for i in num_list:\n",
    "    \n",
    "    # if divided by 2, all even\n",
    "    # number leave a remainder of 0\n",
    "    if i%2==0:\n",
    "        print(i,\"is an even number.\")\n",
    "    else:\n",
    "        print(i,\"is an odd number.\")\n"
   ]
  },
  {
   "cell_type": "code",
   "execution_count": 45,
   "id": "489d7bfd",
   "metadata": {},
   "outputs": [
    {
     "name": "stdout",
     "output_type": "stream",
     "text": [
      "enter the start range:0\n",
      "enter the end range: 20\n",
      "Non-prime numbers between 0 and 20 are:\n",
      "4\n",
      "6\n",
      "8\n",
      "9\n",
      "10\n",
      "12\n",
      "14\n",
      "15\n",
      "16\n",
      "18\n"
     ]
    }
   ],
   "source": [
    "#Example 12: Python program to display all numbers within a range except the prime numbers.\n",
    "\n",
    "def is_not_prime(n):\n",
    "    flag = False\n",
    "    for i in range(2, int((n**0.5)) + 1):\n",
    "        if n % i == 0:\n",
    "            flag = True\n",
    "    return flag\n",
    "\n",
    "range_starts = int(input(\"enter the start range:\"))\n",
    "\n",
    "range_ends = int(input(\"enter the end range: \"))\n",
    "print(\"Non-prime numbers between\",range_starts,\"and\", range_ends,\"are:\")\n",
    " \n",
    "for number in filter(is_not_prime, range(range_starts, range_ends)):\n",
    "    print(number)       "
   ]
  },
  {
   "cell_type": "code",
   "execution_count": 46,
   "id": "f871fa11",
   "metadata": {},
   "outputs": [
    {
     "name": "stdout",
     "output_type": "stream",
     "text": [
      "0\n",
      "1\n",
      "1\n",
      "2\n",
      "3\n",
      "5\n",
      "8\n",
      "13\n",
      "21\n",
      "34\n"
     ]
    }
   ],
   "source": [
    "#Example 13: Python program to get the Fibonacci series between 0 to 50.\n",
    "\n",
    "\n",
    "num = 50\n",
    "first_value, second_value = 0, 1\n",
    "for n in range(0, num):\n",
    "    if n <= 1:\n",
    "        next_value = n\n",
    "    else:\n",
    "        next_value = first_value + second_value\n",
    "        first_value = second_value\n",
    "        second_value = next_value\n",
    "    if next_value > num:\n",
    "        break\n",
    "    print(next_value)\n",
    " "
   ]
  },
  {
   "cell_type": "code",
   "execution_count": 47,
   "id": "cf1a6983",
   "metadata": {},
   "outputs": [
    {
     "name": "stdout",
     "output_type": "stream",
     "text": [
      "The factorial of  5  is  120\n"
     ]
    }
   ],
   "source": [
    "#Example 14: Python program to find the factorial of a given number.\n",
    "\n",
    "given_number= 5\n",
    " \n",
    "factorial = 1\n",
    " \n",
    "for i in range(1, given_number + 1):\n",
    "    factorial = factorial * i\n",
    " \n",
    "print(\"The factorial of \", given_number, \" is \", factorial)\n"
   ]
  },
  {
   "cell_type": "code",
   "execution_count": 48,
   "id": "32913dd3",
   "metadata": {},
   "outputs": [
    {
     "name": "stdout",
     "output_type": "stream",
     "text": [
      "Enter the string: HR29\n",
      " The input string HR29 has 2 letters and 2 digits.\n"
     ]
    }
   ],
   "source": [
    "#Example 15: Python program that accepts a string and calculates the number of digits and letters.\n",
    "\n",
    "user_input = input(\"Enter the string: \")\n",
    "digits = 0\n",
    "letters =0\n",
    "for i in user_input:\n",
    "    if i.isdigit():\n",
    "        digits = digits+1\n",
    "    elif i.isalpha():\n",
    "        letters = letters+1\n",
    "print(\" The input string\",user_input, \"has\", letters, \"letters and\", digits,\"digits.\")"
   ]
  },
  {
   "cell_type": "markdown",
   "id": "ee5b26d5",
   "metadata": {},
   "source": [
    "## Dictionary"
   ]
  },
  {
   "cell_type": "code",
   "execution_count": 49,
   "id": "ad485916",
   "metadata": {},
   "outputs": [
    {
     "data": {
      "text/plain": [
       "dict_keys(['name', 'age', 'city', 'occupation'])"
      ]
     },
     "execution_count": 49,
     "metadata": {},
     "output_type": "execute_result"
    }
   ],
   "source": [
    "#1. Given the following dictionary, print all the keys.\n",
    "my_dict = {\"name\": \"Alice\", \"age\": 25, \"city\": \"New York\", \"occupation\": \"Engineer\"}\n",
    "\n",
    "my_dict.keys()"
   ]
  },
  {
   "cell_type": "code",
   "execution_count": 50,
   "id": "5d883576",
   "metadata": {},
   "outputs": [
    {
     "data": {
      "text/plain": [
       "dict_values(['Alice', 25, 'New York', 'Engineer'])"
      ]
     },
     "execution_count": 50,
     "metadata": {},
     "output_type": "execute_result"
    }
   ],
   "source": [
    "#2. Print all values of dictionary \n",
    "\n",
    "my_dict = {\"name\": \"Alice\", \"age\": 25, \"city\": \"New York\", \"occupation\": \"Engineer\"}\n",
    "\n",
    "my_dict.values()"
   ]
  },
  {
   "cell_type": "code",
   "execution_count": 51,
   "id": "aed2ed53",
   "metadata": {},
   "outputs": [
    {
     "name": "stdout",
     "output_type": "stream",
     "text": [
      "{'name': 'Alice', 'age': 25, 'occupation': 'Engineer'}\n"
     ]
    }
   ],
   "source": [
    "#3. Print all values except \"New York\"\n",
    "\n",
    "my_dict = {\"name\": \"Alice\", \"age\": 25, \"city\": \"New York\", \"occupation\": \"Engineer\"}\n",
    "\n",
    "my_dict.pop(\"city\")\n",
    "print(my_dict)"
   ]
  },
  {
   "cell_type": "code",
   "execution_count": 52,
   "id": "94a42977",
   "metadata": {},
   "outputs": [
    {
     "name": "stdout",
     "output_type": "stream",
     "text": [
      "{'name': 'Alice', 'city': 'New York', 'occupation': 'Engineer'}\n"
     ]
    }
   ],
   "source": [
    "#4.  Delete key \"age\" from below dict\n",
    "\n",
    "my_dict = {\"name\": \"Alice\", \"age\": 25, \"city\": \"New York\", \"occupation\": \"Engineer\"}\n",
    "\n",
    "del my_dict[\"age\"]\n",
    "print(my_dict)"
   ]
  },
  {
   "cell_type": "code",
   "execution_count": 53,
   "id": "d56c0fab",
   "metadata": {},
   "outputs": [
    {
     "name": "stdout",
     "output_type": "stream",
     "text": [
      "Engineer\n"
     ]
    }
   ],
   "source": [
    "#5. Print value of \"occupation\" from below dictionary.\n",
    "\n",
    "my_dict = {\"name\": \"Alice\", \"age\": 25, \"city\": \"New York\", \"occupation\": \"Engineer\"}\n",
    "\n",
    "print(my_dict[\"occupation\"])"
   ]
  },
  {
   "cell_type": "markdown",
   "id": "27de5563",
   "metadata": {},
   "source": [
    "## Functions in Python"
   ]
  },
  {
   "cell_type": "code",
   "execution_count": 54,
   "id": "f1ee7264",
   "metadata": {},
   "outputs": [],
   "source": [
    "#1. Write a python function for addition of 2 number.\n",
    "\n",
    "def addfncvalue(num1,num2):\n",
    "    total_value = num1 + num2\n",
    "    return(total_value)"
   ]
  },
  {
   "cell_type": "code",
   "execution_count": 55,
   "id": "f4f4db74",
   "metadata": {},
   "outputs": [
    {
     "data": {
      "text/plain": [
       "101"
      ]
     },
     "execution_count": 55,
     "metadata": {},
     "output_type": "execute_result"
    }
   ],
   "source": [
    "addfncvalue(45,56)"
   ]
  },
  {
   "cell_type": "code",
   "execution_count": 74,
   "id": "14fde84c",
   "metadata": {},
   "outputs": [],
   "source": [
    "#2. Write function to add all numbers of list and print\n",
    "\n",
    "def addfncvalue(*args):\n",
    "    totalvalue = sum(args)\n",
    "    return(totalvalue)"
   ]
  },
  {
   "cell_type": "code",
   "execution_count": 75,
   "id": "a84f0e1f",
   "metadata": {},
   "outputs": [
    {
     "data": {
      "text/plain": [
       "299"
      ]
     },
     "execution_count": 75,
     "metadata": {},
     "output_type": "execute_result"
    }
   ],
   "source": [
    "addfncvalue(23,45,24,78,86,43)"
   ]
  },
  {
   "cell_type": "code",
   "execution_count": 76,
   "id": "bb6e096e",
   "metadata": {},
   "outputs": [],
   "source": [
    "#3. Write a fucntion to check if number is even or odd and print it.\n",
    "\n",
    "def even_odd(num):\n",
    "    if num%2 == 0:\n",
    "        print(\"The no is even\")\n",
    "    else:\n",
    "        print(\"The no is odd\")"
   ]
  },
  {
   "cell_type": "code",
   "execution_count": 77,
   "id": "d0a09328",
   "metadata": {},
   "outputs": [
    {
     "name": "stdout",
     "output_type": "stream",
     "text": [
      "The no is odd\n"
     ]
    }
   ],
   "source": [
    "even_odd(47)"
   ]
  },
  {
   "cell_type": "code",
   "execution_count": 78,
   "id": "0b17f359",
   "metadata": {},
   "outputs": [],
   "source": [
    "#4. Take any no of inputs in functions and print them.\n",
    "\n",
    "def function(*args):\n",
    "    print(args)"
   ]
  },
  {
   "cell_type": "code",
   "execution_count": 79,
   "id": "bbc361cd",
   "metadata": {},
   "outputs": [
    {
     "name": "stdout",
     "output_type": "stream",
     "text": [
      "(1, 2, 3, 'zebra')\n"
     ]
    }
   ],
   "source": [
    "function(1,2,3, \"zebra\")"
   ]
  },
  {
   "cell_type": "code",
   "execution_count": 80,
   "id": "4c4493ec",
   "metadata": {},
   "outputs": [],
   "source": [
    "#5. Write a python function which will take N number of inputs and print addition of all numbers.\n",
    "\n",
    "def pyfunc(*args):\n",
    "    print(args)\n",
    "    totalvalue = sum(args)\n",
    "    return(totalvalue)"
   ]
  },
  {
   "cell_type": "code",
   "execution_count": 81,
   "id": "8b703151",
   "metadata": {},
   "outputs": [
    {
     "name": "stdout",
     "output_type": "stream",
     "text": [
      "(23, 45, 66, 23, 44)\n"
     ]
    },
    {
     "data": {
      "text/plain": [
       "201"
      ]
     },
     "execution_count": 81,
     "metadata": {},
     "output_type": "execute_result"
    }
   ],
   "source": [
    "pyfunc(23,45,66,23,44)"
   ]
  },
  {
   "cell_type": "code",
   "execution_count": 82,
   "id": "7425ea26",
   "metadata": {},
   "outputs": [
    {
     "name": "stdout",
     "output_type": "stream",
     "text": [
      "['KETAN']\n"
     ]
    }
   ],
   "source": [
    "#5. Write python function which will take N number of string as inputs and will return list of Upper case string.\n",
    "\n",
    "def upper_string(*words):\n",
    "    upper_list=[]\n",
    "    for word in words:\n",
    "        upper_list.append(word.upper())\n",
    "        return upper_list\n",
    "upper_words= upper_string(\"ketan\",\"shyam\",\"AMOL\",\"Chirag\")\n",
    "print(upper_words)"
   ]
  },
  {
   "cell_type": "code",
   "execution_count": 83,
   "id": "1376ecf1",
   "metadata": {},
   "outputs": [],
   "source": [
    "def my_function(**kwargs):\n",
    "    print(\"The following keyword arguments were passed to the function:\")\n",
    "    for key, value in kwargs.items():\n",
    "        print(f\"{key}: {value}\")"
   ]
  },
  {
   "cell_type": "code",
   "execution_count": 84,
   "id": "1fa3dc02",
   "metadata": {},
   "outputs": [
    {
     "name": "stdout",
     "output_type": "stream",
     "text": [
      "The following keyword arguments were passed to the function:\n",
      "city: fbd\n",
      "state: Haryana\n"
     ]
    }
   ],
   "source": [
    "my_function(city='fbd',state='Haryana')"
   ]
  },
  {
   "cell_type": "code",
   "execution_count": 85,
   "id": "2acc7f1b",
   "metadata": {},
   "outputs": [
    {
     "name": "stdout",
     "output_type": "stream",
     "text": [
      "47\n"
     ]
    }
   ],
   "source": [
    "#7. write a python function which takes keyword agruments and find maximum value among all.\n",
    "\n",
    "def find_max(**kwargs):\n",
    "    return max(kwargs.values())\n",
    "\n",
    "result = find_max(a=10, b=47, c=15)\n",
    "print(result)"
   ]
  },
  {
   "cell_type": "code",
   "execution_count": null,
   "id": "5387f38d",
   "metadata": {},
   "outputs": [],
   "source": []
  },
  {
   "cell_type": "code",
   "execution_count": null,
   "id": "c86d48a3",
   "metadata": {},
   "outputs": [],
   "source": []
  },
  {
   "cell_type": "code",
   "execution_count": null,
   "id": "ff3e6287",
   "metadata": {},
   "outputs": [],
   "source": []
  },
  {
   "cell_type": "code",
   "execution_count": null,
   "id": "4713d0fc",
   "metadata": {},
   "outputs": [],
   "source": []
  },
  {
   "cell_type": "code",
   "execution_count": null,
   "id": "c2fc8833",
   "metadata": {},
   "outputs": [],
   "source": []
  },
  {
   "cell_type": "code",
   "execution_count": null,
   "id": "3f5e85a3",
   "metadata": {},
   "outputs": [],
   "source": []
  }
 ],
 "metadata": {
  "kernelspec": {
   "display_name": "Python 3 (ipykernel)",
   "language": "python",
   "name": "python3"
  },
  "language_info": {
   "codemirror_mode": {
    "name": "ipython",
    "version": 3
   },
   "file_extension": ".py",
   "mimetype": "text/x-python",
   "name": "python",
   "nbconvert_exporter": "python",
   "pygments_lexer": "ipython3",
   "version": "3.11.3"
  }
 },
 "nbformat": 4,
 "nbformat_minor": 5
}

